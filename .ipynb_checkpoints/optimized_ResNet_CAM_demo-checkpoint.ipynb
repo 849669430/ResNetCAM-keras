{
 "cells": [
  {
   "cell_type": "code",
   "execution_count": 1,
   "metadata": {
    "collapsed": false
   },
   "outputs": [
    {
     "name": "stderr",
     "output_type": "stream",
     "text": [
      "Using TensorFlow backend.\n"
     ]
    }
   ],
   "source": [
    "import numpy as np\n",
    "import ast\n",
    "import scipy   \n",
    "import matplotlib.pyplot as plt\n",
    "import cv2     \n",
    "from keras.applications.resnet50 import VGG19, preprocess_input\n",
    "from keras.preprocessing import image    \n",
    "from keras.models import Model   "
   ]
  },
  {
   "cell_type": "code",
   "execution_count": 2,
   "metadata": {
    "collapsed": true
   },
   "outputs": [],
   "source": [
    "def pretrained_path_to_tensor(img_path):\n",
    "    # loads RGB image as PIL.Image.Image type\n",
    "    img = image.load_img(img_path, target_size=(224, 224))\n",
    "    # convert PIL.Image.Image type to 3D tensor with shape (224, 224, 3)\n",
    "    x = image.img_to_array(img)\n",
    "    # convert 3D tensor to 4D tensor with shape (1, 224, 224, 3) and return 4D tensor\n",
    "    x = np.expand_dims(x, axis=0)\n",
    "    # convert RGB -> BGR, subtract mean ImageNet pixel, and return 4D tensor\n",
    "    return preprocess_input(x)"
   ]
  },
  {
   "cell_type": "code",
   "execution_count": 40,
   "metadata": {
    "collapsed": false
   },
   "outputs": [],
   "source": [
    "def get_ResNet():\n",
    "    # define ResNet50 model\n",
    "    model = ResNet50(weights='imagenet')\n",
    "    # get AMP layer weights\n",
    "    all_amp_layer_weights = model.layers[-1].get_weights()[0]\n",
    "    # extract wanted output\n",
    "    ResNet_model = Model(inputs=ResNet50_model.input, \n",
    "        outputs=(ResNet50_model.layers[-4].output, ResNet50_model.layers[-1].output)) \n",
    "    return ResNet_model, all_amp_layer_weights\n",
    "\n",
    "def setup_ResNet():\n",
    "    ResNet_model, all_amp_layer_weights = get_ResNet()"
   ]
  },
  {
   "cell_type": "code",
   "execution_count": 41,
   "metadata": {
    "collapsed": false
   },
   "outputs": [],
   "source": [
    "def construct_ResNet_CAM(img_path, model, all_amp_layer_weights):\n",
    "    # get filtered images from convolutional output + model prediction vector\n",
    "    last_conv_output, pred_vec = model.predict(pretrained_path_to_tensor(img_path))\n",
    "    # change dimensions of last convolutional output to 7 x 7 x 2048\n",
    "    last_conv_output = np.squeeze(last_conv_output) \n",
    "    # get model's prediction (number between 0 and 999, inclusive)\n",
    "    pred = np.argmax(pred_vec)\n",
    "    # bilinear upsampling to resize each filtered image to size of original image \n",
    "    mat_for_mult = scipy.ndimage.zoom(last_conv_output, (32, 32, 1), order=1) # dim: 224 x 224 x 2048\n",
    "    # get AMP layer weights\n",
    "    amp_layer_weights = all_amp_layer_weights[:, pred] # dim: (2048,) \n",
    "    # get class activation map for object class that is predicted to be in the image\n",
    "    final_output = np.dot(mat_for_mult.reshape((224*224, 2048)), amp_layer_weights).reshape(224,224) # dim: 224 x 224\n",
    "    # return class activation map\n",
    "    return final_output, pred"
   ]
  },
  {
   "cell_type": "code",
   "execution_count": 68,
   "metadata": {
    "collapsed": false
   },
   "outputs": [],
   "source": [
    "def plot_ResNet_CAM(img_path, ax):\n",
    "    im = cv2.resize(cv2.cvtColor(cv2.imread(img_path), cv2.COLOR_BGR2RGB), (224, 224))\n",
    "    ax.imshow(im, alpha=0.5)\n",
    "    CAM, pred = construct_ResNet_CAM(img_path, ResNet_model, all_amp_layer_weights)\n",
    "    ax.imshow(CAM, cmap='jet')\n",
    "    # load the dictionary that identifies each ImageNet category to an index in the prediction vector\n",
    "    with open('imagenet1000_clsid_to_human.txt') as imagenet_classes_file:\n",
    "        imagenet_classes_dict = ast.literal_eval(imagenet_classes_file.read())\n",
    "    ax.set_title(imagenet_classes_dict[pred])\n",
    "    return CAM"
   ]
  },
  {
   "cell_type": "code",
   "execution_count": 74,
   "metadata": {
    "collapsed": false
   },
   "outputs": [],
   "source": [
    "def ResNet_CAM(img_path):\n",
    "    fig, ax = plt.subplots()\n",
    "    CAM = plot_ResNet_CAM(img_path, ax)\n",
    "    plt.show()"
   ]
  },
  {
   "cell_type": "code",
   "execution_count": null,
   "metadata": {
    "collapsed": false
   },
   "outputs": [],
   "source": []
  },
  {
   "cell_type": "code",
   "execution_count": null,
   "metadata": {
    "collapsed": true
   },
   "outputs": [],
   "source": []
  }
 ],
 "metadata": {
  "kernelspec": {
   "display_name": "Python 3",
   "language": "python",
   "name": "python3"
  },
  "language_info": {
   "codemirror_mode": {
    "name": "ipython",
    "version": 3
   },
   "file_extension": ".py",
   "mimetype": "text/x-python",
   "name": "python",
   "nbconvert_exporter": "python",
   "pygments_lexer": "ipython3",
   "version": "3.5.3"
  }
 },
 "nbformat": 4,
 "nbformat_minor": 2
}
